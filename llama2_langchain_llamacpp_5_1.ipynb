{
  "nbformat": 4,
  "nbformat_minor": 0,
  "metadata": {
    "colab": {
      "provenance": [],
      "collapsed_sections": [
        "JaOrz-2uHeKA"
      ]
    },
    "kernelspec": {
      "name": "python3",
      "display_name": "Python 3"
    },
    "language_info": {
      "name": "python"
    }
  },
  "cells": [
    {
      "cell_type": "markdown",
      "source": [
        "# Instalação do Llama.cpp e Dependências\n",
        "\n",
        "Esta etapa pode demorar alguns minutos."
      ],
      "metadata": {
        "id": "JaOrz-2uHeKA"
      }
    },
    {
      "cell_type": "code",
      "execution_count": null,
      "metadata": {
        "id": "1PruW1vaATwa"
      },
      "outputs": [],
      "source": [
        "!git clone https://github.com/ggerganov/llama.cpp"
      ]
    },
    {
      "cell_type": "code",
      "source": [
        "!pip install -r llama.cpp/requirements.txt"
      ],
      "metadata": {
        "id": "jegsiMkjAaVz"
      },
      "execution_count": null,
      "outputs": []
    },
    {
      "cell_type": "code",
      "source": [
        "!cd llama.cpp && make"
      ],
      "metadata": {
        "id": "TtY5DTCLIyDu"
      },
      "execution_count": null,
      "outputs": []
    },
    {
      "cell_type": "markdown",
      "source": [
        "## Obtém o modelo desejado"
      ],
      "metadata": {
        "id": "19bP4d8_IGoz"
      }
    },
    {
      "cell_type": "code",
      "source": [
        "!cd llama.cpp/models && wget https://huggingface.co/lucianosb/llama-2-7b-langchain-chat-GGUF/resolve/main/llama-2-7b-langchain-chat-q5_1.gguf"
      ],
      "metadata": {
        "id": "QE7uXUTZAkAc"
      },
      "execution_count": null,
      "outputs": []
    },
    {
      "cell_type": "markdown",
      "source": [
        "#Inferência"
      ],
      "metadata": {
        "id": "dsZNvOFqHWJT"
      }
    },
    {
      "cell_type": "code",
      "source": [
        "# Edite apenas a porção INSTRUÇÃO do prompt em -p\n",
        "\n",
        "comando = \"Conte a historia do Curupira.\" #@param {type:\"string\"}\n",
        "\n",
        "!cd llama.cpp && ./main -m ./models/llama-2-7b-langchain-chat-q5_1.gguf --color --temp 0.7 -n 256 -p \"[INST] {comando} [/INST]\""
      ],
      "metadata": {
        "cellView": "form",
        "id": "2KR213E3OGhz"
      },
      "execution_count": null,
      "outputs": []
    },
    {
      "cell_type": "code",
      "source": [],
      "metadata": {
        "id": "5eR7RWKRRbra"
      },
      "execution_count": 5,
      "outputs": []
    }
  ]
}